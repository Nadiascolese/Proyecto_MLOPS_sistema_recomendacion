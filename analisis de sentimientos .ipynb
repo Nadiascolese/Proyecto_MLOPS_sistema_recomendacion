{
 "cells": [
  {
   "cell_type": "markdown",
   "metadata": {},
   "source": [
    " En este estudio, se llevó a cabo un análisis de sentimientos para cada revisión, cuantificando la polaridad de las opiniones expresadas. A partir de este cálculo, se asignó una puntuación de análisis de sentimientos, considerando tanto la valoración del sentimiento como la recomendación final. Previo al análisis, se aplicó un proceso de stemming a la columna 'review'. Esta técnica redujo las palabras a su raíz, facilitando la captura de la semántica subyacente y disminuyendo la dimensionalidad del espacio vectorial.\n",
    " "
   ]
  },
  {
   "cell_type": "code",
   "execution_count": 57,
   "metadata": {},
   "outputs": [],
   "source": [
    "import pandas as pd\n",
    "import numpy as np\n",
    "import nltk\n",
    "from nltk.sentiment import SentimentIntensityAnalyzer\n",
    "from nltk.tokenize import word_tokenize\n",
    "from nltk.sentiment.vader import SentimentIntensityAnalyzer\n",
    "from nltk.corpus import stopwords\n",
    "from nltk.tokenize import word_tokenize\n",
    "from nltk.stem import WordNetLemmatizer, PorterStemmer # importamos stemmer y lematizador\n",
    "import string\n",
    "import matplotlib.pyplot as plt\n",
    "import seaborn as sns\n",
    "import gzip\n",
    "import json\n",
    "import ast\n",
    "import wordcloud\n",
    "from wordcloud import WordCloud, STOPWORDS\n",
    "import fastparquet\n",
    "import pyarrow as pa\n",
    "import pyarrow.parquet as pq\n",
    "\n"
   ]
  },
  {
   "cell_type": "code",
   "execution_count": 58,
   "metadata": {},
   "outputs": [
    {
     "name": "stderr",
     "output_type": "stream",
     "text": [
      "[nltk_data] Downloading package vader_lexicon to\n",
      "[nltk_data]     C:\\Users\\naysc\\AppData\\Roaming\\nltk_data...\n",
      "[nltk_data]   Package vader_lexicon is already up-to-date!\n",
      "[nltk_data] Downloading package punkt to\n",
      "[nltk_data]     C:\\Users\\naysc\\AppData\\Roaming\\nltk_data...\n",
      "[nltk_data]   Package punkt is already up-to-date!\n",
      "[nltk_data] Downloading package wordnet to\n",
      "[nltk_data]     C:\\Users\\naysc\\AppData\\Roaming\\nltk_data...\n",
      "[nltk_data]   Package wordnet is already up-to-date!\n",
      "[nltk_data] Downloading package averaged_perceptron_tagger to\n",
      "[nltk_data]     C:\\Users\\naysc\\AppData\\Roaming\\nltk_data...\n",
      "[nltk_data]   Package averaged_perceptron_tagger is already up-to-\n",
      "[nltk_data]       date!\n",
      "[nltk_data] Downloading package stopwords to\n",
      "[nltk_data]     C:\\Users\\naysc\\AppData\\Roaming\\nltk_data...\n",
      "[nltk_data]   Package stopwords is already up-to-date!\n",
      "[nltk_data] Downloading package punkt_tab to\n",
      "[nltk_data]     C:\\Users\\naysc\\AppData\\Roaming\\nltk_data...\n",
      "[nltk_data]   Package punkt_tab is already up-to-date!\n"
     ]
    },
    {
     "data": {
      "text/plain": [
       "True"
      ]
     },
     "execution_count": 58,
     "metadata": {},
     "output_type": "execute_result"
    }
   ],
   "source": [
    "nltk.download('vader_lexicon')  # modelo vader_lexicon de NLTK\n",
    "nltk.download('punkt')  # tokenizer de NLTK\n",
    "nltk.download('wordnet')  # WordNet para lematización\n",
    "nltk.download('averaged_perceptron_tagger')\n",
    "nltk.download(\"stopwords\")\n",
    "nltk.download('punkt_tab')"
   ]
  },
  {
   "cell_type": "markdown",
   "metadata": {},
   "source": [
    "Para efectuar un análisis de sentimiento detallado, se cargó el conjunto de datos en un DataFrame de Pandas. Esta estructura de datos permite una manipulación y exploración eficientes."
   ]
  },
  {
   "cell_type": "code",
   "execution_count": 59,
   "metadata": {},
   "outputs": [],
   "source": [
    "df = pd.read_parquet(\"australian_user_reviews_limpio.parquet\")"
   ]
  },
  {
   "cell_type": "code",
   "execution_count": 60,
   "metadata": {},
   "outputs": [
    {
     "data": {
      "text/html": [
       "<div>\n",
       "<style scoped>\n",
       "    .dataframe tbody tr th:only-of-type {\n",
       "        vertical-align: middle;\n",
       "    }\n",
       "\n",
       "    .dataframe tbody tr th {\n",
       "        vertical-align: top;\n",
       "    }\n",
       "\n",
       "    .dataframe thead th {\n",
       "        text-align: right;\n",
       "    }\n",
       "</style>\n",
       "<table border=\"1\" class=\"dataframe\">\n",
       "  <thead>\n",
       "    <tr style=\"text-align: right;\">\n",
       "      <th></th>\n",
       "      <th>user_id</th>\n",
       "      <th>funny</th>\n",
       "      <th>posted</th>\n",
       "      <th>last_edited</th>\n",
       "      <th>item_id</th>\n",
       "      <th>helpful</th>\n",
       "      <th>recommend</th>\n",
       "      <th>review</th>\n",
       "    </tr>\n",
       "  </thead>\n",
       "  <tbody>\n",
       "    <tr>\n",
       "      <th>54793</th>\n",
       "      <td>Sttea</td>\n",
       "      <td></td>\n",
       "      <td>Posted December 1, 2013.</td>\n",
       "      <td></td>\n",
       "      <td>550</td>\n",
       "      <td>2 of 4 people (50%) found this review helpful</td>\n",
       "      <td>True</td>\n",
       "      <td>♥♥♥♥ mais meio  chato e injoadivo</td>\n",
       "    </tr>\n",
       "    <tr>\n",
       "      <th>55842</th>\n",
       "      <td>Inkybots</td>\n",
       "      <td></td>\n",
       "      <td>Posted November 15, 2014.</td>\n",
       "      <td></td>\n",
       "      <td>291480</td>\n",
       "      <td>0 of 2 people (0%) found this review helpful</td>\n",
       "      <td>False</td>\n",
       "      <td>The only thing that ruined this game was that ...</td>\n",
       "    </tr>\n",
       "    <tr>\n",
       "      <th>19401</th>\n",
       "      <td>Senioritis67789</td>\n",
       "      <td></td>\n",
       "      <td>Posted July 13.</td>\n",
       "      <td>Last edited July 13.</td>\n",
       "      <td>570</td>\n",
       "      <td>2 of 4 people (50%) found this review helpful</td>\n",
       "      <td>False</td>\n",
       "      <td>Don't play this game*Too many games where peop...</td>\n",
       "    </tr>\n",
       "    <tr>\n",
       "      <th>30057</th>\n",
       "      <td>76561198124399539</td>\n",
       "      <td></td>\n",
       "      <td>Posted June 3, 2015.</td>\n",
       "      <td>Last edited June 3, 2015.</td>\n",
       "      <td>255710</td>\n",
       "      <td>2 of 2 people (100%) found this review helpful</td>\n",
       "      <td>True</td>\n",
       "      <td>as you can see i have played for over 500 hour...</td>\n",
       "    </tr>\n",
       "    <tr>\n",
       "      <th>1600</th>\n",
       "      <td>bruhbruhxd</td>\n",
       "      <td></td>\n",
       "      <td>Posted April 12.</td>\n",
       "      <td></td>\n",
       "      <td>242760</td>\n",
       "      <td>No ratings yet</td>\n",
       "      <td>True</td>\n",
       "      <td>10/10 Definitely the best Survival Game I have...</td>\n",
       "    </tr>\n",
       "    <tr>\n",
       "      <th>25368</th>\n",
       "      <td>stopreadingthisthing</td>\n",
       "      <td></td>\n",
       "      <td>Posted October 11, 2014.</td>\n",
       "      <td></td>\n",
       "      <td>113200</td>\n",
       "      <td>No ratings yet</td>\n",
       "      <td>True</td>\n",
       "      <td>its like the first zelda on the NES mixed with...</td>\n",
       "    </tr>\n",
       "    <tr>\n",
       "      <th>52399</th>\n",
       "      <td>MegamanFury</td>\n",
       "      <td>5 people found this review funny</td>\n",
       "      <td>Posted December 26, 2015.</td>\n",
       "      <td></td>\n",
       "      <td>407510</td>\n",
       "      <td>2 of 5 people (40%) found this review helpful</td>\n",
       "      <td>True</td>\n",
       "      <td>5/7</td>\n",
       "    </tr>\n",
       "    <tr>\n",
       "      <th>5814</th>\n",
       "      <td>frost27820</td>\n",
       "      <td></td>\n",
       "      <td>Posted July 17, 2015.</td>\n",
       "      <td></td>\n",
       "      <td>346110</td>\n",
       "      <td>0 of 2 people (0%) found this review helpful</td>\n",
       "      <td>True</td>\n",
       "      <td>10/10 ign best survival game out there</td>\n",
       "    </tr>\n",
       "    <tr>\n",
       "      <th>23395</th>\n",
       "      <td>76561198104824869</td>\n",
       "      <td></td>\n",
       "      <td>Posted February 22, 2014.</td>\n",
       "      <td></td>\n",
       "      <td>6550</td>\n",
       "      <td>1 of 1 people (100%) found this review helpful</td>\n",
       "      <td>True</td>\n",
       "      <td>虽然不支持控制器和不能全银幕的游戏，但并不会减少游戏的可玩性和热趣，你依然可以灵活的进行华丽...</td>\n",
       "    </tr>\n",
       "    <tr>\n",
       "      <th>48676</th>\n",
       "      <td>76561198050462560</td>\n",
       "      <td></td>\n",
       "      <td>Posted February 14, 2014.</td>\n",
       "      <td></td>\n",
       "      <td>236390</td>\n",
       "      <td>0 of 2 people (0%) found this review helpful</td>\n",
       "      <td>True</td>\n",
       "      <td>Fahken planes m8!</td>\n",
       "    </tr>\n",
       "  </tbody>\n",
       "</table>\n",
       "</div>"
      ],
      "text/plain": [
       "                    user_id                             funny  \\\n",
       "54793                 Sttea                                     \n",
       "55842              Inkybots                                     \n",
       "19401       Senioritis67789                                     \n",
       "30057     76561198124399539                                     \n",
       "1600             bruhbruhxd                                     \n",
       "25368  stopreadingthisthing                                     \n",
       "52399           MegamanFury  5 people found this review funny   \n",
       "5814             frost27820                                     \n",
       "23395     76561198104824869                                     \n",
       "48676     76561198050462560                                     \n",
       "\n",
       "                          posted                last_edited item_id  \\\n",
       "54793   Posted December 1, 2013.                                550   \n",
       "55842  Posted November 15, 2014.                             291480   \n",
       "19401            Posted July 13.       Last edited July 13.     570   \n",
       "30057       Posted June 3, 2015.  Last edited June 3, 2015.  255710   \n",
       "1600            Posted April 12.                             242760   \n",
       "25368   Posted October 11, 2014.                             113200   \n",
       "52399  Posted December 26, 2015.                             407510   \n",
       "5814       Posted July 17, 2015.                             346110   \n",
       "23395  Posted February 22, 2014.                               6550   \n",
       "48676  Posted February 14, 2014.                             236390   \n",
       "\n",
       "                                              helpful recommend  \\\n",
       "54793   2 of 4 people (50%) found this review helpful      True   \n",
       "55842    0 of 2 people (0%) found this review helpful     False   \n",
       "19401   2 of 4 people (50%) found this review helpful     False   \n",
       "30057  2 of 2 people (100%) found this review helpful      True   \n",
       "1600                                   No ratings yet      True   \n",
       "25368                                  No ratings yet      True   \n",
       "52399   2 of 5 people (40%) found this review helpful      True   \n",
       "5814     0 of 2 people (0%) found this review helpful      True   \n",
       "23395  1 of 1 people (100%) found this review helpful      True   \n",
       "48676    0 of 2 people (0%) found this review helpful      True   \n",
       "\n",
       "                                                  review  \n",
       "54793                  ♥♥♥♥ mais meio  chato e injoadivo  \n",
       "55842  The only thing that ruined this game was that ...  \n",
       "19401  Don't play this game*Too many games where peop...  \n",
       "30057  as you can see i have played for over 500 hour...  \n",
       "1600   10/10 Definitely the best Survival Game I have...  \n",
       "25368  its like the first zelda on the NES mixed with...  \n",
       "52399                                                5/7  \n",
       "5814              10/10 ign best survival game out there  \n",
       "23395  虽然不支持控制器和不能全银幕的游戏，但并不会减少游戏的可玩性和热趣，你依然可以灵活的进行华丽...  \n",
       "48676                                  Fahken planes m8!  "
      ]
     },
     "execution_count": 60,
     "metadata": {},
     "output_type": "execute_result"
    }
   ],
   "source": [
    "df.sample(10)"
   ]
  },
  {
   "cell_type": "markdown",
   "metadata": {},
   "source": [
    "Se genera una réplica del archivo original para llevar a cabo las operaciones necesarias, garantizando así la integridad de los datos fuente."
   ]
  },
  {
   "cell_type": "code",
   "execution_count": 61,
   "metadata": {},
   "outputs": [
    {
     "data": {
      "text/html": [
       "<div>\n",
       "<style scoped>\n",
       "    .dataframe tbody tr th:only-of-type {\n",
       "        vertical-align: middle;\n",
       "    }\n",
       "\n",
       "    .dataframe tbody tr th {\n",
       "        vertical-align: top;\n",
       "    }\n",
       "\n",
       "    .dataframe thead th {\n",
       "        text-align: right;\n",
       "    }\n",
       "</style>\n",
       "<table border=\"1\" class=\"dataframe\">\n",
       "  <thead>\n",
       "    <tr style=\"text-align: right;\">\n",
       "      <th></th>\n",
       "      <th>user_id</th>\n",
       "      <th>funny</th>\n",
       "      <th>posted</th>\n",
       "      <th>last_edited</th>\n",
       "      <th>item_id</th>\n",
       "      <th>helpful</th>\n",
       "      <th>recommend</th>\n",
       "      <th>review</th>\n",
       "    </tr>\n",
       "  </thead>\n",
       "  <tbody>\n",
       "    <tr>\n",
       "      <th>0</th>\n",
       "      <td>76561197970982479</td>\n",
       "      <td></td>\n",
       "      <td>Posted November 5, 2011.</td>\n",
       "      <td></td>\n",
       "      <td>1250</td>\n",
       "      <td>No ratings yet</td>\n",
       "      <td>True</td>\n",
       "      <td>Simple yet with great replayability. In my opi...</td>\n",
       "    </tr>\n",
       "    <tr>\n",
       "      <th>1</th>\n",
       "      <td>76561197970982479</td>\n",
       "      <td></td>\n",
       "      <td>Posted July 15, 2011.</td>\n",
       "      <td></td>\n",
       "      <td>22200</td>\n",
       "      <td>No ratings yet</td>\n",
       "      <td>True</td>\n",
       "      <td>It's unique and worth a playthrough.</td>\n",
       "    </tr>\n",
       "    <tr>\n",
       "      <th>2</th>\n",
       "      <td>76561197970982479</td>\n",
       "      <td></td>\n",
       "      <td>Posted April 21, 2011.</td>\n",
       "      <td></td>\n",
       "      <td>43110</td>\n",
       "      <td>No ratings yet</td>\n",
       "      <td>True</td>\n",
       "      <td>Great atmosphere. The gunplay can be a bit chu...</td>\n",
       "    </tr>\n",
       "    <tr>\n",
       "      <th>3</th>\n",
       "      <td>js41637</td>\n",
       "      <td></td>\n",
       "      <td>Posted June 24, 2014.</td>\n",
       "      <td></td>\n",
       "      <td>251610</td>\n",
       "      <td>15 of 20 people (75%) found this review helpful</td>\n",
       "      <td>True</td>\n",
       "      <td>I know what you think when you see this title ...</td>\n",
       "    </tr>\n",
       "    <tr>\n",
       "      <th>4</th>\n",
       "      <td>js41637</td>\n",
       "      <td></td>\n",
       "      <td>Posted September 8, 2013.</td>\n",
       "      <td></td>\n",
       "      <td>227300</td>\n",
       "      <td>0 of 1 people (0%) found this review helpful</td>\n",
       "      <td>True</td>\n",
       "      <td>For a simple (it's actually not all that simpl...</td>\n",
       "    </tr>\n",
       "    <tr>\n",
       "      <th>...</th>\n",
       "      <td>...</td>\n",
       "      <td>...</td>\n",
       "      <td>...</td>\n",
       "      <td>...</td>\n",
       "      <td>...</td>\n",
       "      <td>...</td>\n",
       "      <td>...</td>\n",
       "      <td>...</td>\n",
       "    </tr>\n",
       "    <tr>\n",
       "      <th>59328</th>\n",
       "      <td>76561198312638244</td>\n",
       "      <td></td>\n",
       "      <td>Posted July 10.</td>\n",
       "      <td></td>\n",
       "      <td>70</td>\n",
       "      <td>No ratings yet</td>\n",
       "      <td>True</td>\n",
       "      <td>a must have classic from steam definitely wort...</td>\n",
       "    </tr>\n",
       "    <tr>\n",
       "      <th>59329</th>\n",
       "      <td>76561198312638244</td>\n",
       "      <td></td>\n",
       "      <td>Posted July 8.</td>\n",
       "      <td></td>\n",
       "      <td>362890</td>\n",
       "      <td>No ratings yet</td>\n",
       "      <td>True</td>\n",
       "      <td>this game is a perfect remake of the original ...</td>\n",
       "    </tr>\n",
       "    <tr>\n",
       "      <th>59330</th>\n",
       "      <td>LydiaMorley</td>\n",
       "      <td>1 person found this review funny</td>\n",
       "      <td>Posted July 3.</td>\n",
       "      <td></td>\n",
       "      <td>273110</td>\n",
       "      <td>1 of 2 people (50%) found this review helpful</td>\n",
       "      <td>True</td>\n",
       "      <td>had so much fun plaing this and collecting res...</td>\n",
       "    </tr>\n",
       "    <tr>\n",
       "      <th>59331</th>\n",
       "      <td>LydiaMorley</td>\n",
       "      <td></td>\n",
       "      <td>Posted July 20.</td>\n",
       "      <td></td>\n",
       "      <td>730</td>\n",
       "      <td>No ratings yet</td>\n",
       "      <td>True</td>\n",
       "      <td>:D</td>\n",
       "    </tr>\n",
       "    <tr>\n",
       "      <th>59332</th>\n",
       "      <td>LydiaMorley</td>\n",
       "      <td></td>\n",
       "      <td>Posted July 2.</td>\n",
       "      <td></td>\n",
       "      <td>440</td>\n",
       "      <td>No ratings yet</td>\n",
       "      <td>True</td>\n",
       "      <td>so much fun :D</td>\n",
       "    </tr>\n",
       "  </tbody>\n",
       "</table>\n",
       "<p>59333 rows × 8 columns</p>\n",
       "</div>"
      ],
      "text/plain": [
       "                 user_id                             funny  \\\n",
       "0      76561197970982479                                     \n",
       "1      76561197970982479                                     \n",
       "2      76561197970982479                                     \n",
       "3                js41637                                     \n",
       "4                js41637                                     \n",
       "...                  ...                               ...   \n",
       "59328  76561198312638244                                     \n",
       "59329  76561198312638244                                     \n",
       "59330        LydiaMorley  1 person found this review funny   \n",
       "59331        LydiaMorley                                     \n",
       "59332        LydiaMorley                                     \n",
       "\n",
       "                          posted last_edited item_id  \\\n",
       "0       Posted November 5, 2011.                1250   \n",
       "1          Posted July 15, 2011.               22200   \n",
       "2         Posted April 21, 2011.               43110   \n",
       "3          Posted June 24, 2014.              251610   \n",
       "4      Posted September 8, 2013.              227300   \n",
       "...                          ...         ...     ...   \n",
       "59328            Posted July 10.                  70   \n",
       "59329             Posted July 8.              362890   \n",
       "59330             Posted July 3.              273110   \n",
       "59331            Posted July 20.                 730   \n",
       "59332             Posted July 2.                 440   \n",
       "\n",
       "                                               helpful recommend  \\\n",
       "0                                       No ratings yet      True   \n",
       "1                                       No ratings yet      True   \n",
       "2                                       No ratings yet      True   \n",
       "3      15 of 20 people (75%) found this review helpful      True   \n",
       "4         0 of 1 people (0%) found this review helpful      True   \n",
       "...                                                ...       ...   \n",
       "59328                                   No ratings yet      True   \n",
       "59329                                   No ratings yet      True   \n",
       "59330    1 of 2 people (50%) found this review helpful      True   \n",
       "59331                                   No ratings yet      True   \n",
       "59332                                   No ratings yet      True   \n",
       "\n",
       "                                                  review  \n",
       "0      Simple yet with great replayability. In my opi...  \n",
       "1                   It's unique and worth a playthrough.  \n",
       "2      Great atmosphere. The gunplay can be a bit chu...  \n",
       "3      I know what you think when you see this title ...  \n",
       "4      For a simple (it's actually not all that simpl...  \n",
       "...                                                  ...  \n",
       "59328  a must have classic from steam definitely wort...  \n",
       "59329  this game is a perfect remake of the original ...  \n",
       "59330  had so much fun plaing this and collecting res...  \n",
       "59331                                                 :D  \n",
       "59332                                     so much fun :D  \n",
       "\n",
       "[59333 rows x 8 columns]"
      ]
     },
     "execution_count": 61,
     "metadata": {},
     "output_type": "execute_result"
    }
   ],
   "source": [
    "df_copy = df.copy()\n",
    "df_copy"
   ]
  },
  {
   "cell_type": "code",
   "execution_count": 62,
   "metadata": {},
   "outputs": [
    {
     "name": "stdout",
     "output_type": "stream",
     "text": [
      "<class 'pandas.core.frame.DataFrame'>\n",
      "RangeIndex: 59333 entries, 0 to 59332\n",
      "Data columns (total 8 columns):\n",
      " #   Column       Non-Null Count  Dtype \n",
      "---  ------       --------------  ----- \n",
      " 0   user_id      59333 non-null  object\n",
      " 1   funny        59305 non-null  object\n",
      " 2   posted       59305 non-null  object\n",
      " 3   last_edited  59305 non-null  object\n",
      " 4   item_id      59305 non-null  object\n",
      " 5   helpful      59305 non-null  object\n",
      " 6   recommend    59305 non-null  object\n",
      " 7   review       59305 non-null  object\n",
      "dtypes: object(8)\n",
      "memory usage: 3.6+ MB\n"
     ]
    }
   ],
   "source": [
    "df.info()"
   ]
  },
  {
   "cell_type": "markdown",
   "metadata": {},
   "source": [
    "Se verificó que las columnas 'review' y 'recommend' tuvieran el tipo de dato 'string' para garantizar la correcta aplicación de las operaciones de procesamiento de texto."
   ]
  },
  {
   "cell_type": "code",
   "execution_count": 63,
   "metadata": {},
   "outputs": [],
   "source": [
    "df_copy['review'] = df_copy['review'].astype(str)\n",
    "df_copy['recommend'] = df_copy['recommend'].astype(bool)"
   ]
  },
  {
   "cell_type": "markdown",
   "metadata": {},
   "source": [
    "Se procederá a la imputación de valores nulos, reemplazando las cadenas vacías y otros marcadores de datos faltantes como 'None', 'N/A' y 'NA', con el fin de garantizar la integridad y consistencia del conjunto de datos."
   ]
  },
  {
   "cell_type": "code",
   "execution_count": 64,
   "metadata": {},
   "outputs": [],
   "source": [
    "df_copy = df_copy.replace(['', 'None', 'N/A', 'NA'], np.nan)"
   ]
  },
  {
   "cell_type": "code",
   "execution_count": 65,
   "metadata": {},
   "outputs": [
    {
     "data": {
      "text/plain": [
       "user_id         0\n",
       "funny          28\n",
       "posted         28\n",
       "last_edited    28\n",
       "item_id        28\n",
       "helpful        28\n",
       "recommend      28\n",
       "review         28\n",
       "dtype: int64"
      ]
     },
     "execution_count": 65,
     "metadata": {},
     "output_type": "execute_result"
    }
   ],
   "source": [
    "df.isnull().sum()"
   ]
  },
  {
   "cell_type": "code",
   "execution_count": 66,
   "metadata": {},
   "outputs": [
    {
     "name": "stdout",
     "output_type": "stream",
     "text": [
      "<class 'pandas.core.frame.DataFrame'>\n",
      "RangeIndex: 59333 entries, 0 to 59332\n",
      "Data columns (total 8 columns):\n",
      " #   Column       Non-Null Count  Dtype \n",
      "---  ------       --------------  ----- \n",
      " 0   user_id      59333 non-null  object\n",
      " 1   funny        59305 non-null  object\n",
      " 2   posted       59305 non-null  object\n",
      " 3   last_edited  59305 non-null  object\n",
      " 4   item_id      59305 non-null  object\n",
      " 5   helpful      59305 non-null  object\n",
      " 6   recommend    59305 non-null  object\n",
      " 7   review       59305 non-null  object\n",
      "dtypes: object(8)\n",
      "memory usage: 3.6+ MB\n"
     ]
    }
   ],
   "source": [
    "df.info()"
   ]
  },
  {
   "cell_type": "markdown",
   "metadata": {},
   "source": [
    " Para llevar a cabo un análisis preciso de la intensidad de sentimiento, es necesario inicializar una serie de herramientas. En primer lugar, se procede a la inicialización del stemmer, un algoritmo que reduce las palabras a su raíz o lexema. A continuación, se inicializa el lematizador, una herramienta más sofisticada que asigna a cada palabra su forma canónica o lema, considerando su contexto gramatical. Finalmente, se crean instancias de cada una de estas herramientas para su posterior aplicación en el proceso de análisis."
   ]
  },
  {
   "cell_type": "code",
   "execution_count": 67,
   "metadata": {},
   "outputs": [],
   "source": [
    "sid= SentimentIntensityAnalyzer()\n",
    "\n",
    "stemmer = PorterStemmer()\n",
    "\n",
    "lemmatizer = WordNetLemmatizer()  "
   ]
  },
  {
   "cell_type": "code",
   "execution_count": 68,
   "metadata": {},
   "outputs": [
    {
     "name": "stdout",
     "output_type": "stream",
     "text": [
      "['user_id', 'funny', 'posted', 'last_edited', 'item_id', 'helpful', 'recommend', 'review']\n"
     ]
    }
   ],
   "source": [
    "print(df.columns.tolist())"
   ]
  },
  {
   "cell_type": "markdown",
   "metadata": {},
   "source": [
    "En la presente investigación, se emplea el algoritmo de stemming de NLTK para llevar a cabo la reducción morfológica de las palabras contenidas en la columna 'review' del DataFrame. Esta técnica permite obtener la raíz léxica de cada término, facilitando así la posterior etapa de análisis.\n",
    "La función propuesta divide el texto en tokens individuales mediante word_tokenize y, a continuación, aplica el proceso de lematización a cada token utilizando lemmatizer.. De este modo, se obtiene la forma lemática de cada palabra, lo que contribuye a una representación lingüística más precisa y consistente.\n",
    "Luego a fin de realizar el análisis de sentimiento, se ha diseñado una función que toma como entrada una reseña y devuelve una puntuación correspondiente a la polaridad del sentimiento expresado (negativo, neutral o positivo). En caso de que la reseña esté vacía, se asigna un valor neutral por defecto."
   ]
  },
  {
   "cell_type": "code",
   "execution_count": 69,
   "metadata": {},
   "outputs": [
    {
     "name": "stdout",
     "output_type": "stream",
     "text": [
      "             user_id funny                     posted last_edited item_id  \\\n",
      "0  76561197970982479   NaN   Posted November 5, 2011.         NaN    1250   \n",
      "1  76561197970982479   NaN      Posted July 15, 2011.         NaN   22200   \n",
      "2  76561197970982479   NaN     Posted April 21, 2011.         NaN   43110   \n",
      "3            js41637   NaN      Posted June 24, 2014.         NaN  251610   \n",
      "4            js41637   NaN  Posted September 8, 2013.         NaN  227300   \n",
      "\n",
      "                                           helpful  recommend  review  \\\n",
      "0                                   No ratings yet       True       2   \n",
      "1                                   No ratings yet       True       2   \n",
      "2                                   No ratings yet       True       2   \n",
      "3  15 of 20 people (75%) found this review helpful       True       2   \n",
      "4     0 of 1 people (0%) found this review helpful       True       2   \n",
      "\n",
      "   sentiment_analysis  \n",
      "0                   2  \n",
      "1                   2  \n",
      "2                   2  \n",
      "3                   2  \n",
      "4                   2  \n"
     ]
    }
   ],
   "source": [
    "words_ingles = set(stopwords.words('english'))\n",
    "words_español = set(stopwords.words('spanish'))\n",
    "words_portugues = set(stopwords.words('portuguese'))\n",
    "\n",
    "# Unimos los tres idiomas en un solo conjunto\n",
    "words_lenguajes = words_ingles.union(words_español).union(words_portugues)\n",
    "\n",
    "# Inicializar el analizador de sentimientos VADER\n",
    "analyzer = SentimentIntensityAnalyzer()\n",
    "\n",
    "# Función de procesamiento de texto y transformaciones\n",
    "def transformaciones(text, remove_stopwords=True):  # Simplifiqué la función para enfoque en el análisis de sentimientos\n",
    "    if pd.isna(text):  # Verificar si el texto es nulo\n",
    "        return text\n",
    "    \n",
    "    # Convertir el texto a minúsculas\n",
    "    text = text.lower()\n",
    "    \n",
    "    # Eliminar signos de puntuación\n",
    "    text = text.translate(str.maketrans('', '', string.punctuation))\n",
    "    \n",
    "    # Tokenizar el texto\n",
    "    words = word_tokenize(text)\n",
    "    \n",
    "    # Eliminar stopwords\n",
    "    if remove_stopwords:\n",
    "        words = [word for word in words if word not in words_lenguajes]\n",
    "        \n",
    "    # Unir las palabras procesadas nuevamente en una cadena\n",
    "    return ' '.join(words)\n",
    "\n",
    "# Función para asignar sentimiento basado en VADER\n",
    "def asignar_sentimiento(text):\n",
    "    if pd.isna(text) or text.strip() == '':\n",
    "        return 1  # Neutral si la reseña está vacía o ausente\n",
    "    \n",
    "    # Preprocesar el texto\n",
    "    text = transformaciones(text)\n",
    "    # Obtener los puntajes de sentimiento de VADER\n",
    "    scores = analyzer.polarity_scores(text)\n",
    "    # Asignar el sentimiento basado en el puntaje de compound\n",
    "    if scores['compound'] >= 0.05:\n",
    "        return 2  # Positivo\n",
    "    elif scores['compound'] <= -0.05:\n",
    "        return 0  # Negativo\n",
    "    else:\n",
    "        return 1  # Neutral\n",
    "    \n",
    "# Aplicar el análisis de sentimientos a la columna 'review'\n",
    "df_copy['sentiment_analysis'] = df_copy['review'].apply(asignar_sentimiento)\n",
    "\n",
    "# Reemplazar la columna 'review' con 'sentiment_analysis'\n",
    "df_copy['review'] = df_copy['sentiment_analysis']\n",
    "# Mostrar el DataFrame con la columna de análisis de sentimientos\n",
    "print(df_copy.head())"
   ]
  },
  {
   "cell_type": "code",
   "execution_count": 71,
   "metadata": {},
   "outputs": [
    {
     "data": {
      "image/png": "[encoded data removed]",
      "text/plain": [
       "<Figure size 600x400 with 1 Axes>"
      ]
     },
     "metadata": {},
     "output_type": "display_data"
    }
   ],
   "source": [
    "# Graficamos la distribución del análisis de sentimiento\n",
    "plt.figure(figsize=(6, 4))\n",
    "sns.histplot(df_copy['sentiment_analysis'], bins=30, kde=True)\n",
    "plt.title('Distribución del Análisis de Sentimiento')\n",
    "plt.xlabel('Valor de Sentimiento')\n",
    "plt.ylabel('Frecuencia')\n",
    "plt.show()"
   ]
  },
  {
   "cell_type": "markdown",
   "metadata": {},
   "source": [
    "Se llevó a cabo una revisión exhaustiva de los resultados del análisis, cuantificando así la tasa de errores."
   ]
  },
  {
   "cell_type": "code",
   "execution_count": 72,
   "metadata": {},
   "outputs": [
    {
     "name": "stdout",
     "output_type": "stream",
     "text": [
      "Reviews con sentimiento positivo y recomendación negativa: 2787\n",
      "Reviews con sentimiento positivo y recomendación negativa: 6006\n",
      "la tasa de errores del análisis de sentimiento es 0.15056249036831562\n"
     ]
    }
   ],
   "source": [
    "# Reseñas con sentimiento positivo y recomendación negativa.\n",
    "positive_negative = df_copy[(df_copy['sentiment_analysis'] == 2) & (df_copy['recommend'] == False)]\n",
    "count_positive_negative = len(positive_negative)\n",
    "\n",
    "# Reseñas con sentimiento negativo y recomendación positiva.\n",
    "negative_positive = df_copy[(df_copy['sentiment_analysis'] == 0) & (df_copy['recommend'] == True)]\n",
    "count_negative_positive = len(negative_positive)\n",
    "\n",
    "print(\"Reviews con sentimiento positivo y recomendación negativa:\", count_positive_negative)\n",
    "print(\"Reviews con sentimiento positivo y recomendación negativa:\", count_negative_positive)\n",
    "\n",
    "mistakes = count_negative_positive + count_positive_negative\n",
    "records= 58401\n",
    "mistakes_rate= mistakes/records\n",
    "\n",
    "print(f'la tasa de errores del análisis de sentimiento es', mistakes_rate)"
   ]
  },
  {
   "cell_type": "code",
   "execution_count": 74,
   "metadata": {},
   "outputs": [
    {
     "name": "stdout",
     "output_type": "stream",
     "text": [
      "Porcentaje de errores: 7.124197326951275\n"
     ]
    }
   ],
   "source": [
    "total_mistakes = 2904 + 1323\n",
    "total_records = 59333\n",
    "percent_mistakes = (total_mistakes / total_records) * 100\n",
    "\n",
    "print(\"Porcentaje de errores:\", percent_mistakes)"
   ]
  },
  {
   "cell_type": "markdown",
   "metadata": {},
   "source": [
    "Una vez concluido el procesamiento de los datos, se procedió a exportar el archivo resultante al formato Parquet."
   ]
  },
  {
   "cell_type": "code",
   "execution_count": 75,
   "metadata": {},
   "outputs": [],
   "source": [
    "df_copy.to_parquet(\"user_reviews_analisis_ de_sentimientos.parquet\", index=False)"
   ]
  },
  {
   "cell_type": "code",
   "execution_count": null,
   "metadata": {},
   "outputs": [],
   "source": []
  },
  {
   "cell_type": "code",
   "execution_count": null,
   "metadata": {},
   "outputs": [],
   "source": []
  },
  {
   "cell_type": "code",
   "execution_count": null,
   "metadata": {},
   "outputs": [],
   "source": []
  },
  {
   "cell_type": "code",
   "execution_count": null,
   "metadata": {},
   "outputs": [],
   "source": []
  }
 ],
 "metadata": {
  "kernelspec": {
   "display_name": "Python 3",
   "language": "python",
   "name": "python3"
  },
  "language_info": {
   "codemirror_mode": {
    "name": "ipython",
    "version": 3
   },
   "file_extension": ".py",
   "mimetype": "text/x-python",
   "name": "python",
   "nbconvert_exporter": "python",
   "pygments_lexer": "ipython3",
   "version": "3.12.3"
  }
 },
 "nbformat": 4,
 "nbformat_minor": 2
}
