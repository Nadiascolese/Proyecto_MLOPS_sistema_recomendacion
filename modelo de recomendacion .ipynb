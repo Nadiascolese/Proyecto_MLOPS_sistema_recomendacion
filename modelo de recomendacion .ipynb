{
 "cells": [
  {
   "cell_type": "markdown",
   "metadata": {},
   "source": [
    "### Modelo de Recomendacion ###"
   ]
  },
  {
   "cell_type": "markdown",
   "metadata": {},
   "source": [
    "Se diseñó e implementó un sistema de recomendación basado en el modelo item-item. Tras el pre-procesamiento de datos de juegos, se calculó una matriz de similitud de coseno para establecer relaciones entre los ítems. A partir de esta matriz, se desarrolló una función de recomendación que, dada la identificación de un juego, devuelve una lista de cinco juegos similares. Este sistema ha sido integrado en una API para proporcionar recomendaciones personalizadas a los usuarios finales.\""
   ]
  },
  {
   "cell_type": "markdown",
   "metadata": {},
   "source": [
    "Importamos las librerias necesarias para llavar a cabo el proceso"
   ]
  },
  {
   "cell_type": "code",
   "execution_count": 1,
   "metadata": {},
   "outputs": [],
   "source": [
    "import pandas as pd\n",
    "from sklearn.preprocessing import StandardScaler\n",
    "from sklearn.metrics.pairwise import cosine_similarity\n",
    "import numpy as np"
   ]
  },
  {
   "cell_type": "code",
   "execution_count": 2,
   "metadata": {},
   "outputs": [],
   "source": [
    "df_genres = pd.read_parquet(\"df_herramientas_dummies.parquet\")\n",
    "df_games = pd.read_parquet(\"output_steam_games_limpio.parquet\")"
   ]
  },
  {
   "cell_type": "code",
   "execution_count": 3,
   "metadata": {},
   "outputs": [],
   "source": [
    "# fusionamos df_games y df_genres en df_fusion usando la columna 'id' \n",
    "df_fusion = df_games.merge(df_genres, on='id', how='left')\n",
    "\n",
    "#Creamos la lista caracteristicas que incluye 'release_date' y todas las columnas de df_genres excepto la primera\n",
    "caracteristicas = ['release_date'] + list(df_genres.columns[1:])  \n",
    "\n",
    "# Se crea un objeto para normalizar'release_date' en df_fusion, escalando los valores para que tengan una media de 0 y una desviación estándar de 1.\n",
    "escala = StandardScaler()\n",
    "df_fusion['release_date'] = escala.fit_transform(df_fusion[['release_date']])\n",
    "\n",
    "df_final = df_fusion[['id'] + caracteristicas]\n",
    "df_final= df_final.merge(df_games[['id', 'app_name']], on='id', how='left')"
   ]
  },
  {
   "cell_type": "code",
   "execution_count": 4,
   "metadata": {},
   "outputs": [],
   "source": [
    "# Hacemos un sample de un subconjunto de los datos (20%)\n",
    "df_sampled = df_final.sample(frac=0.2, random_state=42)\n",
    "\n",
    "# Calculamos similitud del coseno \n",
    "matriz_similitud = cosine_similarity(df_sampled[caracteristicas].fillna(0))\n",
    "matriz_similitud = np.nan_to_num(matriz_similitud)"
   ]
  },
  {
   "cell_type": "code",
   "execution_count": 5,
   "metadata": {},
   "outputs": [],
   "source": [
    "def juego_recomendado(game_id, top_n=5):\n",
    "    ids_juegos_muestra = df_sampled['id'].unique() # obtenemos ids de juegos\n",
    "    \n",
    "    # Verificamos si el ID del juego está en los juegos muestreados\n",
    "    if game_id not in ids_juegos_muestra:\n",
    "        return f\"No se encontraron recomendaciones,  {game_id} no está en los datos muestreados.\"\n",
    "    \n",
    "    # Obtenemos el índice del juego en los datos\n",
    "    indice_juego = df_sampled.index[df_sampled['id'] == game_id].tolist()\n",
    "    \n",
    "    # Verificamos si se encontró el juego en los datos muestreados\n",
    "    if not indice_juego:\n",
    "        return f\"No se encontraron recomendaciones,  {game_id} no está en los datos muestreados.\"\n",
    "    \n",
    "    indice_juego = indice_juego[0]\n",
    "\n",
    "    # Calculamos los puntajes de similitud entre juegos\n",
    "    puntajes = list(enumerate(matriz_similitud[indice_juego]))\n",
    "    puntajes = sorted(puntajes, key=lambda x: x[1], reverse=True)\n",
    "\n",
    "    # Obtenemos los índices de los juegos similares\n",
    "    indices_juegos_similares = [i for i, puntaje in puntajes[1:top_n+1]]\n",
    "    \n",
    "    # Obtenemos los nombres de los juegos similares\n",
    "    nombres_juegos_similares = df_sampled['app_name'].iloc[indices_juegos_similares].tolist()\n",
    "\n",
    "    # Mensaje de recomendación\n",
    "    mensaje_recomendacion = f\"Juegos recomendados basados en el ID del juego: {game_id} - {df_sampled['app_name'].iloc[indice_juego]}:\"\n",
    "    \n",
    "    return [mensaje_recomendacion] + nombres_juegos_similares"
   ]
  },
  {
   "cell_type": "code",
   "execution_count": 6,
   "metadata": {},
   "outputs": [
    {
     "name": "stdout",
     "output_type": "stream",
     "text": [
      "Recomendaciones para ID de juego : 774276\n",
      "Juegos recomendados basados en el ID del juego: 774276 - Imhotep, Pyramid Builder:\n",
      "TS Marketplace: Feather River Canyon Scenario Pack 01\n",
      "FSX: Steam Edition - Grumman HU-16B Albatross Add-On\n",
      "TANE DLC: Newcastle Shunter\n",
      "FSX Steam Edition: Endelave Airport Add-On\n",
      "FSX: Steam Edition - Nordborg Airfield Add-On\n"
     ]
    }
   ],
   "source": [
    "test_game_id = \"774276\"\n",
    "recommendations = juego_recomendado(test_game_id, top_n=5)\n",
    "\n",
    "print(\"Recomendaciones para ID de juego :\", test_game_id)\n",
    "for rec in recommendations:\n",
    "    print(rec)"
   ]
  }
 ],
 "metadata": {
  "kernelspec": {
   "display_name": "Python 3",
   "language": "python",
   "name": "python3"
  },
  "language_info": {
   "codemirror_mode": {
    "name": "ipython",
    "version": 3
   },
   "file_extension": ".py",
   "mimetype": "text/x-python",
   "name": "python",
   "nbconvert_exporter": "python",
   "pygments_lexer": "ipython3",
   "version": "3.12.3"
  }
 },
 "nbformat": 4,
 "nbformat_minor": 2
}
