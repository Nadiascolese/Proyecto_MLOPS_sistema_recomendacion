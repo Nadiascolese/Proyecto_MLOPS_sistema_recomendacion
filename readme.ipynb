{
 "cells": [
  {
   "cell_type": "markdown",
   "metadata": {},
   "source": [
    "### Proyecto Integragrador MLOps . Sistema de Recomendación para Usuarios de la plataforma de videojuegos Steam ###"
   ]
  },
  {
   "cell_type": "markdown",
   "metadata": {},
   "source": [
    "#### Descripcion de la problematica : ####\n",
    " La presente investigación aborda la problemática de implementar un modelo de recomendación de videojuegos en un entorno real. El ciclo de vida de este proyecto, caracterizado por su complejidad, involucra etapas que van desde la adquisición y preprocesamiento de datos hasta el entrenamiento, evaluación y despliegue del modelo, con el objetivo de superar los desafíos inherentes a la traducción de un sistema de recomendación de un entorno controlado a un contexto dinámico y en constante evolución.\""
   ]
  },
  {
   "cell_type": "markdown",
   "metadata": {},
   "source": [
    "#### contexto : ####\n",
    "Nuestro estudio se centra en el desarrollo de un sistema de recomendación de videojuegos personalizado para la plataforma Steam, con el fin de optimizar la experiencia del usuario y fomentar el descubrimiento de nuevos títulos."
   ]
  },
  {
   "cell_type": "markdown",
   "metadata": {},
   "source": [
    "#### Rol a Desarrollar : ####\n",
    "En este proyecto, asumimos el rol dual de Data Scientist y MLOps Engineer para llevar a cabo una transformación integral de los datos no estructurados de Steam. Nuestro objetivo principal consiste en diseñar y desarrollar un sistema de recomendación robusto y eficiente, partiendo desde una base de datos sin procesar."
   ]
  },
  {
   "cell_type": "markdown",
   "metadata": {},
   "source": [
    "#### Descripción del proyecto : ####\n",
    "\n",
    "Trabajamos con los siguientes conjuntos de datos obtenidos: \n",
    "\n",
    "*Reseñas de usuarios australianos\n",
    "\n",
    "*elementos_de_usuarios_australianos\n",
    "\n",
    "*salida_de_juegos_de_steam"
   ]
  },
  {
   "cell_type": "markdown",
   "metadata": {},
   "source": [
    "#### Tranformaciones : ####\n",
    "\n",
    "Durante la fase de transformación del proceso ETL, se llevó a cabo una desnormalización de los datos. Ciertas columnas, que originalmente contenían estructuras anidadas como diccionarios o listas, fueron expandidas para obtener una representación tabular más plana. Esta transformación fue necesaria para facilitar las posteriores consultas a las APIs, las cuales requieren datos estructurados en un formato específico."
   ]
  },
  {
   "cell_type": "markdown",
   "metadata": {},
   "source": [
    "En la etapa de transformación del proceso ETL, se llevó a cabo un análisis exhaustivo de la calidad de los datos en las columnas 'title' y 'app_name'. Este análisis consistió en un conteo de los registros que presentaban valores nulos en dichas columnas, así como en la localización precisa de aquellos registros donde el valor de 'app_name' era nulo. Tras esta evaluación, se procedió a la eliminación de las primeras 88.310 filas del DataFrame, debido a que se constató que todos los registros en este rango contenían valores nulos en todas sus columnas, lo cual comprometía la integridad y confiabilidad de los datos subsiguientes."
   ]
  },
  {
   "cell_type": "markdown",
   "metadata": {},
   "source": [
    "Se realizó tambien una transformación de los datos de tipo fecha a formato datetime, con el propósito de facilitar la extracción del año como una unidad de análisis independiente.\n"
   ]
  },
  {
   "cell_type": "markdown",
   "metadata": {},
   "source": [
    "#### Analisis de Sentimientos : ####\n",
    "\n",
    "Se llevó a cabo un análisis de sentimiento utilizando técnicas de Procesamiento del Lenguaje Natural (PLN) sobre la columna 'user_reviews'. Los resultados de este análisis se emplearon para crear una nueva columna denominada 'sentiment_analysis', la cual reemplazó a la original. La escala utilizada para clasificar los sentimientos fue la siguiente: negativo (0), neutral (1) y positivo (2)."
   ]
  },
  {
   "cell_type": "markdown",
   "metadata": {},
   "source": [
    "#### Desarrollo de la API : #### \n",
    "Se ha implementado una interfaz de programación de aplicaciones (API) basada en el framework FastAPI para facilitar el acceso y la consulta de los datos corporativos. A través de esta API, se exponen las siguientes operaciones de consulta:\n",
    "\n",
    "Desarrollador: Retorna la cantidad total de elementos y el porcentaje de contenido gratuito por año, filtrados por una determinada empresa desarrolladora.\n",
    "\n",
    "Usuario: Proporciona información detallada sobre un usuario específico, incluyendo el gasto total, el porcentaje de recomendación basado en las reseñas y la cantidad de artículos adquiridos.\n",
    "\n",
    "Género: Identifica al usuario con mayor tiempo de juego acumulado para un género dado, así como una lista detallada de las horas jugadas por año de lanzamiento.\n",
    "\n",
    "Mejor desarrollador por año: Determina los tres principales desarrolladores cuyos juegos han recibido las mejores valoraciones por parte de los usuarios en un año específico.\n",
    "\n",
    "Análisis de sentimiento por desarrollador: Proporciona un resumen de las reseñas de usuarios para una desarrolladora determinada, categorizando las opiniones en positivas y negativas."
   ]
  },
  {
   "cell_type": "markdown",
   "metadata": {},
   "source": [
    "#### Exhibicion : ####\n",
    "Se emplea la plataforma Render para desplegar la API, permitiendo así su acceso y consumo a través de solicitudes web."
   ]
  },
  {
   "cell_type": "markdown",
   "metadata": {},
   "source": [
    "#### Analisis Exploratorio de los Datos : ####\n",
    "Se aplicaron técnicas de análisis exploratorio de datos (EDA) al conjunto de datos con el fin de visualizar, describir y resumir la información contenida en él, permitiendo así identificar patrones, tendencias y anomalías."
   ]
  },
  {
   "cell_type": "markdown",
   "metadata": {},
   "source": [
    "#### Modelo de Aprendizaje : ####\n",
    "Se diseñó e implementó un modelo de recomendación de tipo ítem-ítem en un contexto de aprendizaje automático. Con el fin de adecuar el modelo a las restricciones de la API, se procedió a una reducción del conjunto de datos, limitando la matriz de interacción a un 20% de su tamaño original. A continuación, se calculó una matriz de similitud basada en características como la fecha de lanzamiento y los géneros de los juegos, con el objetivo de identificar aquellos títulos más afines. Finalmente, se desarrolló una función de recomendación que, a partir del identificador de un juego determinado, retorna una lista de cinco títulos similares, seleccionados en función de los resultados obtenidos en la matriz de similitud."
   ]
  },
  {
   "cell_type": "markdown",
   "metadata": {},
   "source": [
    "#### Datos y Fuentes : ####\n",
    "Los datos empleados en este proyecto fueron obtenidos del conjunto de datos propuesto."
   ]
  },
  {
   "cell_type": "markdown",
   "metadata": {},
   "source": [
    "#### Requisitos : ###\n",
    "*Python 3.7 o superior.\n",
    "\n",
    "*fastapi.\n",
    "\n",
    "*uvicorn.\n",
    "\n",
    "*scikit-learn."
   ]
  },
  {
   "cell_type": "markdown",
   "metadata": {},
   "source": [
    "#### Autora : ####\n",
    "Este proyecto fue realizado por: Nadia Scolese ."
   ]
  }
 ],
 "metadata": {
  "kernelspec": {
   "display_name": "Python 3",
   "language": "python",
   "name": "python3"
  },
  "language_info": {
   "name": "python",
   "version": "3.12.3"
  }
 },
 "nbformat": 4,
 "nbformat_minor": 2
}
