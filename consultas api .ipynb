{
 "cells": [
  {
   "cell_type": "markdown",
   "metadata": {},
   "source": [
    "En este módulo principal, se procede a integrar las funcionalidades definidas en cada uno de los endpoints individuales. A través de la utilización de app.include_router(), se incorporan los enrutadores correspondientes a la aplicación FastAPI, estableciendo de este modo un único punto de acceso para todas las operaciones expuestas por la API. Esta estructura modular facilita la gestión y el mantenimiento de la aplicación, permitiendo una escalabilidad eficiente al agregar nuevos endpoints en el futuro.\n"
   ]
  },
  {
   "cell_type": "code",
   "execution_count": 71,
   "metadata": {},
   "outputs": [],
   "source": [
    "from fastapi import FastAPI\n",
    "\n",
    "app = FastAPI()\n"
   ]
  },
  {
   "cell_type": "code",
   "execution_count": 72,
   "metadata": {},
   "outputs": [],
   "source": [
    "from fastapi import FastAPI, HTTPException\n",
    "import pandas as pd\n",
    "from sklearn.metrics.pairwise import cosine_similarity\n",
    "from sklearn.feature_extraction.text import TfidfVectorizer\n"
   ]
  },
  {
   "cell_type": "markdown",
   "metadata": {},
   "source": [
    "#### Consulta 1 : ####\n",
    "Esta consulta retorna un conjunto de datos estructurado en forma de tabla. Esta tabla proporciona un desglose cuantitativo del contenido ofrecido gratuitamente por cada empresa desarrolladora, especificando el número total de ítems y su correspondiente porcentaje respecto al total de ítems ofrecidos por dicha empresa en un determinado año.\n"
   ]
  },
  {
   "cell_type": "code",
   "execution_count": 73,
   "metadata": {},
   "outputs": [],
   "source": [
    "import pandas as pd\n",
    "import csv"
   ]
  },
  {
   "cell_type": "markdown",
   "metadata": {},
   "source": [
    "\n",
    "Procedemos a importar el archivo con el cual vamos a trabajar."
   ]
  },
  {
   "cell_type": "code",
   "execution_count": 74,
   "metadata": {},
   "outputs": [],
   "source": [
    "df = pd.read_parquet(\"output_steam_games_limpio.parquet\")"
   ]
  },
  {
   "cell_type": "markdown",
   "metadata": {},
   "source": [
    "se generó una réplica del archivo"
   ]
  },
  {
   "cell_type": "code",
   "execution_count": 75,
   "metadata": {},
   "outputs": [],
   "source": [
    "df_games_copy = df.copy()"
   ]
  },
  {
   "cell_type": "markdown",
   "metadata": {},
   "source": [
    "Se implementa una función personalizada con el propósito de ejecutar la consulta deseada."
   ]
  },
  {
   "cell_type": "code",
   "execution_count": 82,
   "metadata": {},
   "outputs": [],
   "source": [
    "import pandas as pd\n",
    "import json\n",
    "\n",
    "def developer(desarrollador: str, df: pd.DataFrame):\n",
    "    \n",
    "    df['release_date'] = pd.to_datetime(df['release_date'], errors='coerce') # convertimos \"release_date\" a fecha\n",
    "\n",
    "    developer_df = df[df['developer'] == desarrollador]\n",
    "\n",
    "    # Agrupamos por año y contamos ls elementos en cada grupo\n",
    "    items_por_año = developer_df.groupby(df['release_date'].dt.year).size().reset_index(name='Cantidad de Items')\n",
    "\n",
    "    # Calcular el porcentaje de contenido gratuito para cada año\n",
    "    gratis_por_año = developer_df[developer_df['price'] == 0].groupby(df['release_date'].dt.year).size().reset_index(name='Contenido Free')\n",
    "\n",
    "    # Combinar los resultados en un DataFrame final\n",
    "    resultado_df = items_por_año.merge(gratis_por_año, on='release_date', how='left')\n",
    "    #resultado_df['Contenido Free'] = (resultado_df['Contenido Free'] / resultado_df['Cantidad de Items'] * 100).fillna(0).astype(int).astype(str) + '%'\n",
    "\n",
    "    # Renombrar la columna de años\n",
    "    resultado_df.rename(columns={'release_date': 'Año'}, inplace=True)\n",
    "\n",
    "    return resultado_df"
   ]
  },
  {
   "cell_type": "code",
   "execution_count": 83,
   "metadata": {},
   "outputs": [
    {
     "name": "stdout",
     "output_type": "stream",
     "text": [
      "Empty DataFrame\n",
      "Columns: [Año, Cantidad de Items, Contenido Free]\n",
      "Index: []\n"
     ]
    }
   ],
   "source": [
    "desarrollador = input(\"cargue el desarrollador: \")\n",
    "consulta = developer(desarrollador, df_games_copy)\n",
    "print(consulta)"
   ]
  },
  {
   "cell_type": "markdown",
   "metadata": {},
   "source": [
    "#### Consulta 2 : ####\n",
    "Esta consulta genera un diccionario que condensa la información relevante de cada usuario, incluyendo el monto total invertido, el porcentaje de recomendaciones basado en la columna 'reviews.recommend' y el número de artículos adquiridos."
   ]
  },
  {
   "cell_type": "code",
   "execution_count": 42,
   "metadata": {},
   "outputs": [],
   "source": [
    "df_games = pd.read_parquet(\"output_steam_games_limpio.parquet\")\n",
    "df_items = pd.read_parquet(\"australian_users_items_limpio.parquet\")\n",
    "df_reviews = pd.read_parquet(\"australian_user_reviews_limpio.parquet\")"
   ]
  },
  {
   "cell_type": "markdown",
   "metadata": {},
   "source": [
    "se procedió a elaborar una copia de trabajo."
   ]
  },
  {
   "cell_type": "code",
   "execution_count": 11,
   "metadata": {},
   "outputs": [],
   "source": [
    "games_copy = df_games.copy()\n",
    "items_copy = df_items.copy()\n",
    "reviews_copy = df_reviews.copy()"
   ]
  },
  {
   "cell_type": "markdown",
   "metadata": {},
   "source": [
    "Se ha diseñado una función específica para llevar a cabo la consulta requerida, la cual permite obtener la información precisa necesaria para el análisis."
   ]
  },
  {
   "cell_type": "code",
   "execution_count": 44,
   "metadata": {},
   "outputs": [],
   "source": [
    "def userdata(User_id, items_copy, games_copy, reviews_copy):\n",
    "    \n",
    "    items_copy['user_id'] = items_copy['user_id'].astype(str) #convertimos \"uder_id\" a str\n",
    "    reviews_copy['user_id'] = reviews_copy['user_id'].astype(str)\n",
    "\n",
    "    user_items = items_copy[items_copy['user_id'] == str(User_id)]  #filtramos df_items\n",
    "\n",
    "    games_copy['price'] = pd.to_numeric(games_copy['price'], errors='coerce') #calculamos el dinero que gasto el usuario y convertimos \"price\" a numerico\n",
    "    dinero = user_items.merge(games_copy[['id', 'price']], left_on='item_id', right_on='id')['price'].sum()\n",
    "\n",
    "    total_items = user_items['items_count'].sum() #cant de items del usuario\n",
    "\n",
    "    user_reviews = reviews_copy[reviews_copy['user_id'] == str(User_id)] #filtramos df_reviews\n",
    "\n",
    "    if user_reviews.shape[0] > 0: # calculo en prcentajede recomendacion promedio del usuario\n",
    "        porcentaje_recomendacion = (user_reviews['recommend'].sum() / user_reviews.shape[0]) * 100\n",
    "    else:\n",
    "        porcentaje_recomendacion = 0\n",
    "\n",
    "#diccionario de resultados\n",
    "    result = {\n",
    "        \"Usuario\": str(User_id),\n",
    "        \"Dinero gastado\": f\"{dinero:.2f} USD\", # formato a2 decimales\n",
    "        \"% de recomendación\": f\"{porcentaje_recomendacion:.2f}%\",\n",
    "        \"Cantidad de items\": total_items\n",
    "    }\n",
    "\n",
    "    return result"
   ]
  },
  {
   "cell_type": "code",
   "execution_count": 45,
   "metadata": {},
   "outputs": [
    {
     "name": "stdout",
     "output_type": "stream",
     "text": [
      "{'Usuario': '545', 'Dinero gastado': '0.00 USD', '% de recomendación': '0.00%', 'Cantidad de items': 0}\n"
     ]
    }
   ],
   "source": [
    "usuario = input(\"Ingrese id de usuario: \")\n",
    "resultado = userdata(usuario, items_copy, games_copy, reviews_copy)\n",
    "print(resultado)"
   ]
  },
  {
   "cell_type": "markdown",
   "metadata": {},
   "source": [
    "#### Consulta 3 : ####\n",
    "\n",
    "Esta consulta permite identificar al usuario que ha dedicado más horas de juego a un género específico, así como obtener un listado de las horas acumuladas por año de lanzamiento de los juegos."
   ]
  },
  {
   "cell_type": "code",
   "execution_count": 46,
   "metadata": {},
   "outputs": [],
   "source": [
    "df_games = pd.read_parquet(\"output_steam_games_limpio.parquet\")\n",
    "df_items = pd.read_parquet(\"australian_users_items_limpio.parquet\")"
   ]
  },
  {
   "cell_type": "markdown",
   "metadata": {},
   "source": [
    " se procedió a elaborar una copia de trabajo."
   ]
  },
  {
   "cell_type": "code",
   "execution_count": 47,
   "metadata": {},
   "outputs": [],
   "source": [
    "df_games_copy = df_games.copy()\n",
    "df_items_copy = df_items.copy()"
   ]
  },
  {
   "cell_type": "markdown",
   "metadata": {},
   "source": [
    "Se ha diseñado una función específica para llevar a cabo la consulta requerida, la cual permite obtener la información precisa necesaria para el análisis."
   ]
  },
  {
   "cell_type": "code",
   "execution_count": 48,
   "metadata": {},
   "outputs": [],
   "source": [
    "def UserForGenre(genero: str, df_games_copy, df_items_copy):\n",
    "    # Verificar si la columna 'genre' está presente en el DataFrame df_games_copy\n",
    "    if 'genres' not in df_games_copy.columns:\n",
    "        raise ValueError(\"El DataFrame df_games_copy no tiene una columna llamada 'genre'.\")\n",
    "\n",
    "    # Convertir la columna 'release_date' a tipo datetime y extraer el año\n",
    "    df_games_copy['Año'] = pd.to_datetime(df_games_copy['release_date'], errors='coerce').dt.year\n",
    "\n",
    "    # Filtrar df_games_copy por el género dado\n",
    "    juegos_genero = df_games_copy[df_games_copy['genres'] == genero]\n",
    "\n",
    "    # Unir el DataFrame filtrado con df_user_items\n",
    "    juegos_usuario = juegos_genero.merge(df_items_copy, left_on='id', right_on='item_id')\n",
    "\n",
    "    # Calcular las horas jugadas por usuario para cada juego\n",
    "    horas_por_usuario = juegos_usuario.groupby('user_id')['playtime_forever'].sum().reset_index()\n",
    "\n",
    "    # Verificar si hay datos para el género dado\n",
    "    if horas_por_usuario.empty:\n",
    "        return {\"Mensaje\": f\"No hay datos para el género '{genero}'.\"}\n",
    "\n",
    "    # Encontrar el usuario con más horas jugadas\n",
    "    usuario_max_horas = horas_por_usuario.loc[horas_por_usuario['playtime_forever'].idxmax()]['user_id']\n",
    "\n",
    "    # Calcular la acumulación de horas jugadas por año de lanzamiento para el género dado\n",
    "    horas_por_año = juegos_usuario.groupby('Año')['playtime_forever'].sum().reset_index()\n",
    "    horas_por_año.rename(columns={'playtime_forever': 'Horas'}, inplace=True)\n",
    "    horas_por_año['Año'] = horas_por_año['Año'].astype(int)  # Convertir el año a número entero\n",
    "    horas_por_año = horas_por_año.to_dict('records')\n",
    "\n",
    "    # Crear el diccionario de resultados\n",
    "    result = {\n",
    "        \"Usuario con más horas jugadas para {}: \".format(genero): usuario_max_horas,\n",
    "        \"Horas jugadas\": horas_por_año\n",
    "    }\n",
    "\n",
    "    return result"
   ]
  },
  {
   "cell_type": "code",
   "execution_count": 49,
   "metadata": {},
   "outputs": [
    {
     "name": "stdout",
     "output_type": "stream",
     "text": [
      "{'Usuario con más horas jugadas para Simulation: ': '76561198038513068', 'Horas jugadas': [{'Año': 1987, 'Horas': 0.0}, {'Año': 1988, 'Horas': 1.0}, {'Año': 1989, 'Horas': 0.0}, {'Año': 1990, 'Horas': 878.0}, {'Año': 1991, 'Horas': 144.0}, {'Año': 1992, 'Horas': 11.0}, {'Año': 1994, 'Horas': 4127.0}, {'Año': 1995, 'Horas': 980.0}, {'Año': 1998, 'Horas': 4361.0}, {'Año': 1999, 'Horas': 130537.0}, {'Año': 2000, 'Horas': 12342.0}, {'Año': 2001, 'Horas': 215993.0}, {'Año': 2002, 'Horas': 294785.0}, {'Año': 2003, 'Horas': 1363396.0}, {'Año': 2004, 'Horas': 101930.0}, {'Año': 2005, 'Horas': 80704.0}, {'Año': 2006, 'Horas': 2691671.0}, {'Año': 2007, 'Horas': 172230.0}, {'Año': 2008, 'Horas': 3798669.0}, {'Año': 2009, 'Horas': 13880055.0}, {'Año': 2010, 'Horas': 1124125.0}, {'Año': 2011, 'Horas': 3371092.0}, {'Año': 2012, 'Horas': 369703.0}, {'Año': 2013, 'Horas': 16534471.0}, {'Año': 2014, 'Horas': 3738916.0}, {'Año': 2015, 'Horas': 9669002.0}, {'Año': 2016, 'Horas': 5873778.0}, {'Año': 2017, 'Horas': 71150.0}]}\n"
     ]
    }
   ],
   "source": [
    "resultado = UserForGenre(\"Simulation\", df_games_copy, df_items_copy)\n",
    "print(resultado)"
   ]
  },
  {
   "cell_type": "markdown",
   "metadata": {},
   "source": [
    "#### Consulta 4 : ####\n",
    "El objetivo de esta consulta es identificar a los tres estudios de desarrollo de videojuegos más valorados por la comunidad de jugadores en un año específico. La métrica empleada para la selección es la cantidad de recomendaciones positivas recibidas por sus juegos."
   ]
  },
  {
   "cell_type": "code",
   "execution_count": 50,
   "metadata": {},
   "outputs": [],
   "source": [
    "def UsersBestDeveloper(año: int):\n",
    "\n",
    "    df_games = pd.read_parquet(\"output_steam_games_limpio.parquet\")\n",
    "    df_reviews = pd.read_parquet(\"australian_user_reviews_limpio.parquet\")\n",
    "    df_sentimientos = pd.read_parquet (\"user_reviews_analisis_ de_sentimientos.parquet\")\n",
    "\n",
    "    df_games_copy = df_games.copy()\n",
    "    df_reviews_copy = df_reviews.copy()\n",
    "    df_sentimientos_copy = df_sentimientos.copy()\n",
    "\n",
    "    # Verificar si el año es igual a -1 y mostrar un mensaje personalizado\n",
    "    if año == -1:\n",
    "        return \"El año ingresado es -1, lo cual no es válido.\""
   ]
  },
  {
   "cell_type": "code",
   "execution_count": 51,
   "metadata": {},
   "outputs": [],
   "source": [
    "df_games = pd.read_parquet(\"output_steam_games_limpio.parquet\")\n",
    "df_reviews = pd.read_parquet(\"australian_user_reviews_limpio.parquet\")\n",
    "df_sentimientos = pd.read_parquet(\"user_reviews_analisis_ de_sentimientos.parquet\")"
   ]
  },
  {
   "cell_type": "markdown",
   "metadata": {},
   "source": [
    "se procedió a elaborar una copia de trabajo."
   ]
  },
  {
   "cell_type": "code",
   "execution_count": 52,
   "metadata": {},
   "outputs": [],
   "source": [
    "df_games_copy = df_games.copy()\n",
    "df_reviews_copy = df_reviews.copy()\n",
    "df_sentimientos_copy = df_sentimientos.copy()"
   ]
  },
  {
   "cell_type": "markdown",
   "metadata": {},
   "source": [
    "se procedió a la concatenación de los dos conjuntos de datos: el referente al análisis de sentimiento y el vinculado a los juegos. De esta manera, se integraron en una única tabla las variables de interés para la investigación."
   ]
  },
  {
   "cell_type": "code",
   "execution_count": 56,
   "metadata": {},
   "outputs": [
    {
     "data": {
      "text/html": [
       "<div>\n",
       "<style scoped>\n",
       "    .dataframe tbody tr th:only-of-type {\n",
       "        vertical-align: middle;\n",
       "    }\n",
       "\n",
       "    .dataframe tbody tr th {\n",
       "        vertical-align: top;\n",
       "    }\n",
       "\n",
       "    .dataframe thead th {\n",
       "        text-align: right;\n",
       "    }\n",
       "</style>\n",
       "<table border=\"1\" class=\"dataframe\">\n",
       "  <thead>\n",
       "    <tr style=\"text-align: right;\">\n",
       "      <th></th>\n",
       "      <th>user_id</th>\n",
       "      <th>funny</th>\n",
       "      <th>posted</th>\n",
       "      <th>last_edited</th>\n",
       "      <th>item_id</th>\n",
       "      <th>helpful</th>\n",
       "      <th>recommend</th>\n",
       "      <th>review</th>\n",
       "      <th>sentiment_analysis</th>\n",
       "      <th>id</th>\n",
       "      <th>developer</th>\n",
       "    </tr>\n",
       "  </thead>\n",
       "  <tbody>\n",
       "    <tr>\n",
       "      <th>0</th>\n",
       "      <td>76561197970982479</td>\n",
       "      <td>None</td>\n",
       "      <td>Posted November 5, 2011.</td>\n",
       "      <td>None</td>\n",
       "      <td>1250</td>\n",
       "      <td>No ratings yet</td>\n",
       "      <td>True</td>\n",
       "      <td>2</td>\n",
       "      <td>2</td>\n",
       "      <td>1250</td>\n",
       "      <td>Tripwire Interactive</td>\n",
       "    </tr>\n",
       "    <tr>\n",
       "      <th>1</th>\n",
       "      <td>76561197970982479</td>\n",
       "      <td>None</td>\n",
       "      <td>Posted July 15, 2011.</td>\n",
       "      <td>None</td>\n",
       "      <td>22200</td>\n",
       "      <td>No ratings yet</td>\n",
       "      <td>True</td>\n",
       "      <td>2</td>\n",
       "      <td>2</td>\n",
       "      <td>22200</td>\n",
       "      <td>ACE Team</td>\n",
       "    </tr>\n",
       "    <tr>\n",
       "      <th>2</th>\n",
       "      <td>76561197970982479</td>\n",
       "      <td>None</td>\n",
       "      <td>Posted April 21, 2011.</td>\n",
       "      <td>None</td>\n",
       "      <td>43110</td>\n",
       "      <td>No ratings yet</td>\n",
       "      <td>True</td>\n",
       "      <td>2</td>\n",
       "      <td>2</td>\n",
       "      <td>NaN</td>\n",
       "      <td>NaN</td>\n",
       "    </tr>\n",
       "    <tr>\n",
       "      <th>3</th>\n",
       "      <td>js41637</td>\n",
       "      <td>None</td>\n",
       "      <td>Posted June 24, 2014.</td>\n",
       "      <td>None</td>\n",
       "      <td>251610</td>\n",
       "      <td>15 of 20 people (75%) found this review helpful</td>\n",
       "      <td>True</td>\n",
       "      <td>2</td>\n",
       "      <td>2</td>\n",
       "      <td>NaN</td>\n",
       "      <td>NaN</td>\n",
       "    </tr>\n",
       "    <tr>\n",
       "      <th>4</th>\n",
       "      <td>js41637</td>\n",
       "      <td>None</td>\n",
       "      <td>Posted September 8, 2013.</td>\n",
       "      <td>None</td>\n",
       "      <td>227300</td>\n",
       "      <td>0 of 1 people (0%) found this review helpful</td>\n",
       "      <td>True</td>\n",
       "      <td>2</td>\n",
       "      <td>2</td>\n",
       "      <td>227300</td>\n",
       "      <td>SCS Software</td>\n",
       "    </tr>\n",
       "    <tr>\n",
       "      <th>...</th>\n",
       "      <td>...</td>\n",
       "      <td>...</td>\n",
       "      <td>...</td>\n",
       "      <td>...</td>\n",
       "      <td>...</td>\n",
       "      <td>...</td>\n",
       "      <td>...</td>\n",
       "      <td>...</td>\n",
       "      <td>...</td>\n",
       "      <td>...</td>\n",
       "      <td>...</td>\n",
       "    </tr>\n",
       "    <tr>\n",
       "      <th>59356</th>\n",
       "      <td>76561198312638244</td>\n",
       "      <td>None</td>\n",
       "      <td>Posted July 10.</td>\n",
       "      <td>None</td>\n",
       "      <td>70</td>\n",
       "      <td>No ratings yet</td>\n",
       "      <td>True</td>\n",
       "      <td>2</td>\n",
       "      <td>2</td>\n",
       "      <td>70</td>\n",
       "      <td>Valve</td>\n",
       "    </tr>\n",
       "    <tr>\n",
       "      <th>59357</th>\n",
       "      <td>76561198312638244</td>\n",
       "      <td>None</td>\n",
       "      <td>Posted July 8.</td>\n",
       "      <td>None</td>\n",
       "      <td>362890</td>\n",
       "      <td>No ratings yet</td>\n",
       "      <td>True</td>\n",
       "      <td>2</td>\n",
       "      <td>2</td>\n",
       "      <td>362890</td>\n",
       "      <td>Crowbar Collective</td>\n",
       "    </tr>\n",
       "    <tr>\n",
       "      <th>59358</th>\n",
       "      <td>LydiaMorley</td>\n",
       "      <td>1 person found this review funny</td>\n",
       "      <td>Posted July 3.</td>\n",
       "      <td>None</td>\n",
       "      <td>273110</td>\n",
       "      <td>1 of 2 people (50%) found this review helpful</td>\n",
       "      <td>True</td>\n",
       "      <td>2</td>\n",
       "      <td>2</td>\n",
       "      <td>273110</td>\n",
       "      <td>Nexon</td>\n",
       "    </tr>\n",
       "    <tr>\n",
       "      <th>59359</th>\n",
       "      <td>LydiaMorley</td>\n",
       "      <td>None</td>\n",
       "      <td>Posted July 20.</td>\n",
       "      <td>None</td>\n",
       "      <td>730</td>\n",
       "      <td>No ratings yet</td>\n",
       "      <td>True</td>\n",
       "      <td>1</td>\n",
       "      <td>1</td>\n",
       "      <td>730</td>\n",
       "      <td>Valve</td>\n",
       "    </tr>\n",
       "    <tr>\n",
       "      <th>59360</th>\n",
       "      <td>LydiaMorley</td>\n",
       "      <td>None</td>\n",
       "      <td>Posted July 2.</td>\n",
       "      <td>None</td>\n",
       "      <td>440</td>\n",
       "      <td>No ratings yet</td>\n",
       "      <td>True</td>\n",
       "      <td>2</td>\n",
       "      <td>2</td>\n",
       "      <td>440</td>\n",
       "      <td>Valve</td>\n",
       "    </tr>\n",
       "  </tbody>\n",
       "</table>\n",
       "<p>59361 rows × 11 columns</p>\n",
       "</div>"
      ],
      "text/plain": [
       "                 user_id                             funny  \\\n",
       "0      76561197970982479                              None   \n",
       "1      76561197970982479                              None   \n",
       "2      76561197970982479                              None   \n",
       "3                js41637                              None   \n",
       "4                js41637                              None   \n",
       "...                  ...                               ...   \n",
       "59356  76561198312638244                              None   \n",
       "59357  76561198312638244                              None   \n",
       "59358        LydiaMorley  1 person found this review funny   \n",
       "59359        LydiaMorley                              None   \n",
       "59360        LydiaMorley                              None   \n",
       "\n",
       "                          posted last_edited item_id  \\\n",
       "0       Posted November 5, 2011.        None    1250   \n",
       "1          Posted July 15, 2011.        None   22200   \n",
       "2         Posted April 21, 2011.        None   43110   \n",
       "3          Posted June 24, 2014.        None  251610   \n",
       "4      Posted September 8, 2013.        None  227300   \n",
       "...                          ...         ...     ...   \n",
       "59356            Posted July 10.        None      70   \n",
       "59357             Posted July 8.        None  362890   \n",
       "59358             Posted July 3.        None  273110   \n",
       "59359            Posted July 20.        None     730   \n",
       "59360             Posted July 2.        None     440   \n",
       "\n",
       "                                               helpful  recommend  review  \\\n",
       "0                                       No ratings yet       True       2   \n",
       "1                                       No ratings yet       True       2   \n",
       "2                                       No ratings yet       True       2   \n",
       "3      15 of 20 people (75%) found this review helpful       True       2   \n",
       "4         0 of 1 people (0%) found this review helpful       True       2   \n",
       "...                                                ...        ...     ...   \n",
       "59356                                   No ratings yet       True       2   \n",
       "59357                                   No ratings yet       True       2   \n",
       "59358    1 of 2 people (50%) found this review helpful       True       2   \n",
       "59359                                   No ratings yet       True       1   \n",
       "59360                                   No ratings yet       True       2   \n",
       "\n",
       "       sentiment_analysis      id             developer  \n",
       "0                       2    1250  Tripwire Interactive  \n",
       "1                       2   22200              ACE Team  \n",
       "2                       2     NaN                   NaN  \n",
       "3                       2     NaN                   NaN  \n",
       "4                       2  227300          SCS Software  \n",
       "...                   ...     ...                   ...  \n",
       "59356                   2      70                 Valve  \n",
       "59357                   2  362890    Crowbar Collective  \n",
       "59358                   2  273110                 Nexon  \n",
       "59359                   1     730                 Valve  \n",
       "59360                   2     440                 Valve  \n",
       "\n",
       "[59361 rows x 11 columns]"
      ]
     },
     "execution_count": 56,
     "metadata": {},
     "output_type": "execute_result"
    }
   ],
   "source": [
    "df_fusionar = df_sentimientos_copy.merge(df_games_copy[['id', 'developer']], left_on='item_id', right_on='id', how='left')\n",
    "df_fusionar"
   ]
  },
  {
   "cell_type": "markdown",
   "metadata": {},
   "source": [
    " se procedió a la creación de una nueva columna denominada 'year_posted'. Esta columna contiene exclusivamente el año extraído del campo original 'posted', el cual sera posteriormente eliminado."
   ]
  },
  {
   "cell_type": "code",
   "execution_count": 57,
   "metadata": {},
   "outputs": [],
   "source": [
    "# Define un patrón regex para extraer el año (cuatro dígitos)\n",
    "pattern = r'(\\b\\d{4}\\b)'\n",
    "\n",
    "# Extrae el año de cada celda en la columna 'posted' usando regex\n",
    "df_fusionar['year_posted'] = df_fusionar['posted'].str.extract(pattern)\n",
    "\n",
    "# Elimina la columna original 'posted'\n",
    "df_fusionar.drop(columns=['posted'], inplace=True)"
   ]
  },
  {
   "cell_type": "markdown",
   "metadata": {},
   "source": [
    "A continuacion reordenamos las columnas"
   ]
  },
  {
   "cell_type": "code",
   "execution_count": 58,
   "metadata": {},
   "outputs": [
    {
     "data": {
      "text/html": [
       "<div>\n",
       "<style scoped>\n",
       "    .dataframe tbody tr th:only-of-type {\n",
       "        vertical-align: middle;\n",
       "    }\n",
       "\n",
       "    .dataframe tbody tr th {\n",
       "        vertical-align: top;\n",
       "    }\n",
       "\n",
       "    .dataframe thead th {\n",
       "        text-align: right;\n",
       "    }\n",
       "</style>\n",
       "<table border=\"1\" class=\"dataframe\">\n",
       "  <thead>\n",
       "    <tr style=\"text-align: right;\">\n",
       "      <th></th>\n",
       "      <th>user_id</th>\n",
       "      <th>item_id</th>\n",
       "      <th>recommend</th>\n",
       "      <th>sentiment_analysis</th>\n",
       "      <th>developer</th>\n",
       "      <th>year_posted</th>\n",
       "    </tr>\n",
       "  </thead>\n",
       "  <tbody>\n",
       "    <tr>\n",
       "      <th>0</th>\n",
       "      <td>76561197970982479</td>\n",
       "      <td>1250</td>\n",
       "      <td>True</td>\n",
       "      <td>2</td>\n",
       "      <td>Tripwire Interactive</td>\n",
       "      <td>2011</td>\n",
       "    </tr>\n",
       "    <tr>\n",
       "      <th>1</th>\n",
       "      <td>76561197970982479</td>\n",
       "      <td>22200</td>\n",
       "      <td>True</td>\n",
       "      <td>2</td>\n",
       "      <td>ACE Team</td>\n",
       "      <td>2011</td>\n",
       "    </tr>\n",
       "    <tr>\n",
       "      <th>2</th>\n",
       "      <td>76561197970982479</td>\n",
       "      <td>43110</td>\n",
       "      <td>True</td>\n",
       "      <td>2</td>\n",
       "      <td>NaN</td>\n",
       "      <td>2011</td>\n",
       "    </tr>\n",
       "    <tr>\n",
       "      <th>3</th>\n",
       "      <td>js41637</td>\n",
       "      <td>251610</td>\n",
       "      <td>True</td>\n",
       "      <td>2</td>\n",
       "      <td>NaN</td>\n",
       "      <td>2014</td>\n",
       "    </tr>\n",
       "    <tr>\n",
       "      <th>4</th>\n",
       "      <td>js41637</td>\n",
       "      <td>227300</td>\n",
       "      <td>True</td>\n",
       "      <td>2</td>\n",
       "      <td>SCS Software</td>\n",
       "      <td>2013</td>\n",
       "    </tr>\n",
       "    <tr>\n",
       "      <th>...</th>\n",
       "      <td>...</td>\n",
       "      <td>...</td>\n",
       "      <td>...</td>\n",
       "      <td>...</td>\n",
       "      <td>...</td>\n",
       "      <td>...</td>\n",
       "    </tr>\n",
       "    <tr>\n",
       "      <th>59356</th>\n",
       "      <td>76561198312638244</td>\n",
       "      <td>70</td>\n",
       "      <td>True</td>\n",
       "      <td>2</td>\n",
       "      <td>Valve</td>\n",
       "      <td>NaN</td>\n",
       "    </tr>\n",
       "    <tr>\n",
       "      <th>59357</th>\n",
       "      <td>76561198312638244</td>\n",
       "      <td>362890</td>\n",
       "      <td>True</td>\n",
       "      <td>2</td>\n",
       "      <td>Crowbar Collective</td>\n",
       "      <td>NaN</td>\n",
       "    </tr>\n",
       "    <tr>\n",
       "      <th>59358</th>\n",
       "      <td>LydiaMorley</td>\n",
       "      <td>273110</td>\n",
       "      <td>True</td>\n",
       "      <td>2</td>\n",
       "      <td>Nexon</td>\n",
       "      <td>NaN</td>\n",
       "    </tr>\n",
       "    <tr>\n",
       "      <th>59359</th>\n",
       "      <td>LydiaMorley</td>\n",
       "      <td>730</td>\n",
       "      <td>True</td>\n",
       "      <td>1</td>\n",
       "      <td>Valve</td>\n",
       "      <td>NaN</td>\n",
       "    </tr>\n",
       "    <tr>\n",
       "      <th>59360</th>\n",
       "      <td>LydiaMorley</td>\n",
       "      <td>440</td>\n",
       "      <td>True</td>\n",
       "      <td>2</td>\n",
       "      <td>Valve</td>\n",
       "      <td>NaN</td>\n",
       "    </tr>\n",
       "  </tbody>\n",
       "</table>\n",
       "<p>59361 rows × 6 columns</p>\n",
       "</div>"
      ],
      "text/plain": [
       "                 user_id item_id  recommend  sentiment_analysis  \\\n",
       "0      76561197970982479    1250       True                   2   \n",
       "1      76561197970982479   22200       True                   2   \n",
       "2      76561197970982479   43110       True                   2   \n",
       "3                js41637  251610       True                   2   \n",
       "4                js41637  227300       True                   2   \n",
       "...                  ...     ...        ...                 ...   \n",
       "59356  76561198312638244      70       True                   2   \n",
       "59357  76561198312638244  362890       True                   2   \n",
       "59358        LydiaMorley  273110       True                   2   \n",
       "59359        LydiaMorley     730       True                   1   \n",
       "59360        LydiaMorley     440       True                   2   \n",
       "\n",
       "                  developer year_posted  \n",
       "0      Tripwire Interactive        2011  \n",
       "1                  ACE Team        2011  \n",
       "2                       NaN        2011  \n",
       "3                       NaN        2014  \n",
       "4              SCS Software        2013  \n",
       "...                     ...         ...  \n",
       "59356                 Valve         NaN  \n",
       "59357    Crowbar Collective         NaN  \n",
       "59358                 Nexon         NaN  \n",
       "59359                 Valve         NaN  \n",
       "59360                 Valve         NaN  \n",
       "\n",
       "[59361 rows x 6 columns]"
      ]
     },
     "execution_count": 58,
     "metadata": {},
     "output_type": "execute_result"
    }
   ],
   "source": [
    "nuevo_orden_columnas = [\n",
    "    'user_id',\n",
    "    'item_id',\n",
    "    'recommend',\n",
    "    'sentiment_analysis',\n",
    "    'developer',\n",
    "    'year_posted'\n",
    "]\n",
    "\n",
    "# Reordena las columnas del DataFrame con el nuevo orden\n",
    "df_merged = df_fusionar[nuevo_orden_columnas]\n",
    "\n",
    "df_merged"
   ]
  },
  {
   "cell_type": "markdown",
   "metadata": {},
   "source": [
    "Procedemos a delimitar la función que la consulta estaría destinada a cumplir.\n"
   ]
  },
  {
   "cell_type": "code",
   "execution_count": 59,
   "metadata": {},
   "outputs": [],
   "source": [
    "def best_developer_year(df, año):\n",
    "    df_año = df[df['year_posted'] == año] #filtramos de a cuerdo al año\n",
    "\n",
    "    df_filtrado = df_año[df_año['recommend'] & (df_año['sentiment_analysis'] == df_año['sentiment_analysis'].max())] #filtramos por recomendaciones verdaderas y analisis de sentimiento mas alto\n",
    "\n",
    "    top_developers = df_filtrado.groupby('developer')['recommend'].sum() #agrupo por desarrllador y cuento recomendaciones\n",
    "\n",
    "    top_developers = top_developers.sort_values(ascending=False) #ordeno desarrolladores pornum de recomendacion (DESC)\n",
    "\n",
    "    top_3_developers = top_developers.head(3)#top 3\n",
    "\n",
    "    # creo dicc con top 3\n",
    "    top_developers_dict = {}\n",
    "    for i, (developer, recomendaciones) in enumerate(top_3_developers.items(), 1):\n",
    "        puesto = f\"Puesto {i}\"\n",
    "        top_developers_dict[puesto] = developer\n",
    "\n",
    "    return top_developers_dict"
   ]
  },
  {
   "cell_type": "code",
   "execution_count": 60,
   "metadata": {},
   "outputs": [
    {
     "name": "stdout",
     "output_type": "stream",
     "text": [
      "Top 3 de desarrolladores para el año 2015: {}\n"
     ]
    }
   ],
   "source": [
    "año = 2015\n",
    "top_3_desarrolladores = best_developer_year(df_merged, año)\n",
    "\n",
    "# Imprimir el top 3 de desarrolladores para el año dado\n",
    "print(f\"Top 3 de desarrolladores para el año {año}: {top_3_desarrolladores}\")"
   ]
  },
  {
   "cell_type": "markdown",
   "metadata": {},
   "source": [
    "Se procedió a exportar el conjunto de datos 'df_merged' al formato Parquet con el fin de optimizar su integración con la API."
   ]
  },
  {
   "cell_type": "code",
   "execution_count": 61,
   "metadata": {},
   "outputs": [],
   "source": [
    "df_merged.to_parquet(\"reviews_merged.parquet\", index=False)"
   ]
  },
  {
   "cell_type": "markdown",
   "metadata": {},
   "source": [
    "#### Consulta 5 : ####\n",
    "La consulta genera un diccionario en el cual las claves corresponden a los nombres de los desarrolladores. El valor asociado a cada clave es una lista que contiene dos elementos: el número total de reseñas positivas y el número total de reseñas negativas. En aquellos casos donde no se dispone de información sobre un desarrollador en particular o si las reseñas no han sido categorizadas, se retorna el mensaje 'No se encontró información sobre el desarrollador. "
   ]
  },
  {
   "cell_type": "code",
   "execution_count": 62,
   "metadata": {},
   "outputs": [],
   "source": [
    "games = pd.read_parquet(\"output_steam_games_limpio.parquet\")\n",
    "sentiment = pd.read_parquet(\"user_reviews_analisis_ de_sentimientos.parquet\")"
   ]
  },
  {
   "cell_type": "markdown",
   "metadata": {},
   "source": [
    "Realizamos una copia de los mismos para evitar modificaciones  accidentales"
   ]
  },
  {
   "cell_type": "code",
   "execution_count": 63,
   "metadata": {},
   "outputs": [],
   "source": [
    "games_copy = games.copy()\n",
    "sentiment_copy = sentiment.copy()"
   ]
  },
  {
   "cell_type": "markdown",
   "metadata": {},
   "source": [
    "Procedemos a delimitar la función que la consulta estaría destinada a cumplir.\n"
   ]
  },
  {
   "cell_type": "code",
   "execution_count": 64,
   "metadata": {},
   "outputs": [],
   "source": [
    "def developer_reviews_analysis(desarrolladora):\n",
    "    merged_data = pd.merge(sentiment_copy, games_copy, left_on='item_id', right_on='id')#combino conj de datos en las clumnas apropiadas\n",
    "\n",
    "#Filtro filas donde el puntaje de sentimiento es positivo (2) o negativo (0)\n",
    "    filtered_data = merged_data[merged_data['sentiment_analysis'] != 1]  # Excluir sentimiento neutral\n",
    "\n",
    "#Agrupamos por desarrolladora y puntaje de sentimiento\n",
    "    grouped_data = filtered_data.groupby(['developer', 'sentiment_analysis']).size().unstack(fill_value=0)\n",
    "\n",
    "    if desarrolladora in grouped_data.index:# verifico si la desarrolladora esta presente\n",
    "        # Extraemos cantidad de reseñas positivas y negativas\n",
    "        developer_reviews = grouped_data.loc[desarrolladora]\n",
    "\n",
    "        # Convertimos  a formato de lista con claves especificadas\n",
    "        developer_reviews_list = [\n",
    "            {\"Negativas\": developer_reviews.get(0, 0)},\n",
    "            {\"Positivas\": developer_reviews.get(2, 0)}\n",
    "        ]\n",
    "\n",
    "        return {desarrolladora: developer_reviews_list}\n",
    "    else:\n",
    "        return f\"No se encontró información sobre la desarrolladora {desarrolladora}\""
   ]
  },
  {
   "cell_type": "code",
   "execution_count": 65,
   "metadata": {},
   "outputs": [
    {
     "name": "stdout",
     "output_type": "stream",
     "text": [
      "No se encontró información sobre la desarrolladora 56\n"
     ]
    }
   ],
   "source": [
    "developer = input(\"Ingrese nombre del desarrolladora: \")\n",
    "resultado = developer_reviews_analysis(developer)\n",
    "print(resultado)"
   ]
  }
 ],
 "metadata": {
  "kernelspec": {
   "display_name": "Python 3",
   "language": "python",
   "name": "python3"
  },
  "language_info": {
   "codemirror_mode": {
    "name": "ipython",
    "version": 3
   },
   "file_extension": ".py",
   "mimetype": "text/x-python",
   "name": "python",
   "nbconvert_exporter": "python",
   "pygments_lexer": "ipython3",
   "version": "3.12.3"
  }
 },
 "nbformat": 4,
 "nbformat_minor": 2
}
